{
  "nbformat": 4,
  "nbformat_minor": 0,
  "metadata": {
    "colab": {
      "provenance": [],
      "mount_file_id": "1Kl6QerYD_gDZp49alRuwUHfKF69vcs8S",
      "authorship_tag": "ABX9TyNxQ2abrgbWUpX0hOaGoPC7",
      "include_colab_link": true
    },
    "kernelspec": {
      "name": "python3",
      "display_name": "Python 3"
    },
    "language_info": {
      "name": "python"
    }
  },
  "cells": [
    {
      "cell_type": "markdown",
      "metadata": {
        "id": "view-in-github",
        "colab_type": "text"
      },
      "source": [
        "<a href=\"https://colab.research.google.com/github/GeorgiyAleksanyan/14-332-472-01-ROBOTICS-COMP-VISION-Classify-Dog-vs-Cat-Kaggle-dataset-with-two-different-networks/blob/main/ga360_RCV_14_332_472_Project_1_Question_3.ipynb\" target=\"_parent\"><img src=\"https://colab.research.google.com/assets/colab-badge.svg\" alt=\"Open In Colab\"/></a>"
      ]
    },
    {
      "cell_type": "markdown",
      "source": [
        "**Classify Dog vs Cat Kaggle dataset with two different networks** Fine-tune a pre-trained network for the dog vs. cat classification problem. Report the confusion matrix, the accuracy, the f-score, precision and recall of your classifier. Write a paragraph describing your results and methods."
      ],
      "metadata": {
        "id": "SB3rMyRK92qO"
      }
    },
    {
      "cell_type": "code",
      "source": [
        "!pip install torch~=2.1.0 torchvision pytorch-lightning\n",
        "!pip install validators matplotlib\n",
        "!pip install -U 'torch_xla>=2.1'\n",
        "!pip install kaggle"
      ],
      "metadata": {
        "id": "xH2YuXp3OnNS"
      },
      "execution_count": null,
      "outputs": []
    },
    {
      "cell_type": "code",
      "source": [
        "import torch\n",
        "from torchvision.models import resnet18\n",
        "from torch import nn\n",
        "from torch.utils.data import DataLoader\n",
        "from tqdm.autonotebook import tqdm\n",
        "import pytorch_lightning as pl\n",
        "from sklearn.metrics import classification_report\n",
        "import torch\n",
        "from PIL import Image\n",
        "import torchvision.transforms as transforms\n",
        "import numpy as np\n",
        "import json\n",
        "import requests\n",
        "import matplotlib.pyplot as plt\n",
        "import warnings\n",
        "from sklearn.metrics import confusion_matrix, accuracy_score, precision_score, recall_score, f1_score\n",
        "from pytorch_lightning.callbacks import ModelCheckpoint\n",
        "from torchvision.datasets import MNIST\n",
        "from torchvision.transforms import ToTensor\n",
        "import torchvision.transforms as transforms\n",
        "from torchvision.datasets import ImageFolder\n",
        "from torch.utils.data import DataLoader"
      ],
      "metadata": {
        "id": "ZMSf6J0BPieF"
      },
      "execution_count": null,
      "outputs": []
    },
    {
      "cell_type": "code",
      "source": [
        "torch.__version__\n",
        "# Define data transformations\n",
        "transform = ToTensor()\n",
        "train_folder = '/content/drive/My Drive/path_to_train_data_folder'\n",
        "test_folder = '/content/drive/MyDrive/Colab Notebooks/Project 1/dogs vs cats Kaggle Data/test1'\n",
        "\n",
        "transform = transforms.Compose([\n",
        "    transforms.Resize((224, 224)),  # Resize your images to the desired size\n",
        "    transforms.ToTensor(),         # Convert images to tensors\n",
        "    transforms.Normalize(mean=[0.485, 0.456, 0.406], std=[0.229, 0.224, 0.225])  # Normalize the data\n",
        "])\n",
        "\n",
        "train_dataset = ImageFolder(train_folder, transform=transform)\n",
        "test_dataset = ImageFolder(test_folder, transform=transform)\n",
        "\n",
        "train_loader = DataLoader(train_dataset, batch_size=32, shuffle=True)\n",
        "test_loader = DataLoader(test_dataset, batch_size=32, shuffle=False)\n",
        "\n",
        "# Define the ResNet model for MNIST classification\n",
        "class ResNetMNIST(pl.LightningModule):\n",
        "    def __init__(self):\n",
        "        super().__init__()\n",
        "        self.model = resnet18(num_classes=10)\n",
        "        self.model.conv1 = nn.Conv2d(1, 64, kernel_size=(7, 7), stride=(2, 2), padding=(3, 3), bias=False)\n",
        "        self.loss = nn.CrossEntropyLoss()\n",
        "\n",
        "    def forward(self, x):\n",
        "        return self.model(x)\n",
        "\n",
        "    def training_step(self, batch, batch_idx):\n",
        "        x, y = batch\n",
        "        logits = self(x)\n",
        "        loss = self.loss(logits, y)\n",
        "        return loss\n",
        "\n",
        "    def configure_optimizers(self):\n",
        "        return torch.optim.RMSprop(self.parameters(), lr=0.005)\n",
        "\n",
        "# Create an instance of the ResNetMNIST model\n",
        "model = ResNetMNIST()\n",
        "\n",
        "# Create a trainer for training the model\n",
        "trainer = pl.Trainer(\n",
        "    accelerator=\"cpu\",\n",
        "    max_epochs=1\n",
        ")\n",
        "\n",
        "# Train the model\n",
        "trainer.fit(model, train_loader)\n",
        "\n",
        "# Save the trained model\n",
        "trainer.save_checkpoint(\"resnet18_mnist.pt\")\n",
        "\n",
        "# Define a function for making predictions\n",
        "def get_prediction(x, model):\n",
        "    model.freeze()  # Prepare the model for predicting\n",
        "    probabilities = torch.softmax(model(x), dim=1)\n",
        "    predicted_class = torch.argmax(probabilities, dim=1)\n",
        "    return predicted_class, probabilities\n",
        "\n",
        "# Load the trained model for inference\n",
        "inference_model = ResNetMNIST.load_from_checkpoint(\"resnet18_mnist.pt\", map_location=\"cpu\")\n",
        "\n",
        "true_labels, predicted_labels = [], []\n",
        "\n",
        "# Perform inference on the test data\n",
        "for batch in tqdm(test_loader, total=len(test_loader)):\n",
        "    x, y = batch\n",
        "    true_labels.extend(y)\n",
        "    preds, _ = get_prediction(x, inference_model)\n",
        "    predicted_labels.extend(preds.cpu())\n",
        "\n",
        "# Print the classification report\n",
        "print(classification_report(true_labels, predicted_labels, digits=3))\n",
        "\n",
        "# Create a confusion matrix\n",
        "conf_matrix = confusion_matrix(true_labels, predicted_labels)\n",
        "\n",
        "# Calculate accuracy, F1-score, precision, and recall\n",
        "accuracy = accuracy_score(true_labels, predicted_labels)\n",
        "f1 = f1_score(true_labels, predicted_labels, average='weighted')\n",
        "precision = precision_score(true_labels, predicted_labels, average='weighted')\n",
        "recall = recall_score(true_labels, predicted_labels, average='weighted')\n",
        "\n",
        "print(\"Confusion Matrix:\")\n",
        "print(conf_matrix)\n",
        "print(f\"Accuracy: {accuracy:.2f}\")\n",
        "print(f\"F1-Score: {f1:.2f}\")\n",
        "print(f\"Precision: {precision:.2f}\")\n",
        "print(f\"Recall: {recall:.2f}\")"
      ],
      "metadata": {
        "id": "FlXcZSW6PwQl"
      },
      "execution_count": null,
      "outputs": []
    },
    {
      "cell_type": "code",
      "source": [],
      "metadata": {
        "id": "_Np2y8KYWFV4"
      },
      "execution_count": 21,
      "outputs": []
    }
  ]
}